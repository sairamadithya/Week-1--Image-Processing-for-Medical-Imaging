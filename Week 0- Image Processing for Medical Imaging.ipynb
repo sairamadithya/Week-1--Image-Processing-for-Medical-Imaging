{
 "cells": [
  {
   "cell_type": "markdown",
   "id": "4005e9dc",
   "metadata": {},
   "source": [
    "This notebook contains some of the operations related to image processing necessary for medical imaging. It involves basic image operations, followed by image denoising and some image enhancement techniques followed by case studies.\n",
    "\n",
    "We are going to use opencv, a python library for image processing operations. \n",
    "**To install it type pip install opencv-python in command prompt**\n"
   ]
  },
  {
   "cell_type": "markdown",
   "id": "9f5a3f12",
   "metadata": {},
   "source": [
    "# Reading an image using opencv"
   ]
  },
  {
   "cell_type": "code",
   "execution_count": 2,
   "id": "ed5c517d",
   "metadata": {},
   "outputs": [],
   "source": [
    "import cv2"
   ]
  },
  {
   "cell_type": "code",
   "execution_count": 3,
   "id": "aa9e4fe9",
   "metadata": {},
   "outputs": [
    {
     "ename": "SyntaxError",
     "evalue": "(unicode error) 'unicodeescape' codec can't decode bytes in position 2-3: truncated \\UXXXXXXXX escape (<ipython-input-3-11691530a609>, line 1)",
     "output_type": "error",
     "traceback": [
      "\u001b[1;36m  File \u001b[1;32m\"<ipython-input-3-11691530a609>\"\u001b[1;36m, line \u001b[1;32m1\u001b[0m\n\u001b[1;33m    a=\"C:\\Users\\sairam\\Desktop\\cat.jpeg\"\u001b[0m\n\u001b[1;37m      ^\u001b[0m\n\u001b[1;31mSyntaxError\u001b[0m\u001b[1;31m:\u001b[0m (unicode error) 'unicodeescape' codec can't decode bytes in position 2-3: truncated \\UXXXXXXXX escape\n"
     ]
    }
   ],
   "source": [
    "a=\"C:\\Users\\sairam\\Desktop\\cat.jpeg\"\n",
    "b=cv2.imread(a)"
   ]
  },
  {
   "cell_type": "markdown",
   "id": "42cb0dd3",
   "metadata": {},
   "source": [
    "There are two ways to avoid this error\n",
    "1. a=r\"C:\\Users\\sairam\\Desktop\\cat.jpeg\"\n",
    "2. a=\"C:\\\\Users\\\\sairam\\\\Desktop\\\\cat.jpeg\""
   ]
  },
  {
   "cell_type": "markdown",
   "id": "48821995",
   "metadata": {},
   "source": [
    "# Viewing an image "
   ]
  },
  {
   "cell_type": "code",
   "execution_count": 4,
   "id": "63ae13a4",
   "metadata": {},
   "outputs": [],
   "source": [
    "a=r\"C:\\Users\\sairam\\Desktop\\cat.jpeg\"\n",
    "b=cv2.imread(a,1) #  1-color    0-grayscale\n",
    "#c=cv2.imshow('cat',b)"
   ]
  },
  {
   "cell_type": "markdown",
   "id": "485550fe",
   "metadata": {},
   "source": [
    "If we use this, we wont get the image and the kernel will die. hence we need to add some additional statements to this."
   ]
  },
  {
   "cell_type": "code",
   "execution_count": 5,
   "id": "e73b9b40",
   "metadata": {},
   "outputs": [],
   "source": [
    "c=cv2.imshow('cat',b)\n",
    "cv2.waitKey(0)\n",
    "cv2.destroyAllWindows()"
   ]
  },
  {
   "cell_type": "markdown",
   "id": "db80e6e3",
   "metadata": {},
   "source": [
    "# Basic image processing operations "
   ]
  },
  {
   "cell_type": "markdown",
   "id": "324b97de",
   "metadata": {},
   "source": [
    "The following operations are some basics of image processing. These methods are used in a technique called as augmentation. It is a procedure done in order to increase the strength of dataset. We apply these operations to images in dataset and improve its count."
   ]
  },
  {
   "cell_type": "markdown",
   "id": "9445b2c8",
   "metadata": {},
   "source": [
    "**image flipping**\n",
    "0- vertical flip\n",
    "1- horizontal flip"
   ]
  },
  {
   "cell_type": "code",
   "execution_count": 7,
   "id": "32846120",
   "metadata": {},
   "outputs": [],
   "source": [
    "d=cv2.flip(b,0)\n",
    "cv2.imshow('cat-vertically flipped',d)\n",
    "cv2.waitKey(0)\n",
    "cv2.destroyAllWindows()"
   ]
  },
  {
   "cell_type": "code",
   "execution_count": 8,
   "id": "b1e8d52f",
   "metadata": {},
   "outputs": [],
   "source": [
    "e=cv2.flip(b,1)\n",
    "cv2.imshow('cat-horizontal flip',e)\n",
    "cv2.waitKey(0)\n",
    "cv2.destroyAllWindows()"
   ]
  },
  {
   "cell_type": "markdown",
   "id": "80f6625f",
   "metadata": {},
   "source": [
    "**image rotation**\n",
    "0- 90 clockwise\n",
    "1- 180 clockwise\n",
    "2- 270 clockwise\n",
    "3- 360 clockwise"
   ]
  },
  {
   "cell_type": "code",
   "execution_count": 17,
   "id": "4e6cee20",
   "metadata": {},
   "outputs": [],
   "source": [
    "f=cv2.rotate(b,1) #change the numbers\n",
    "cv2.imshow('cat-rotated',f)\n",
    "cv2.waitKey(0)\n",
    "cv2.destroyAllWindows()"
   ]
  },
  {
   "cell_type": "markdown",
   "id": "7fd9f018",
   "metadata": {},
   "source": [
    "custom function to rotate images at any angle."
   ]
  },
  {
   "cell_type": "code",
   "execution_count": 20,
   "id": "7c731a5d",
   "metadata": {},
   "outputs": [],
   "source": [
    "import random\n",
    "def rotation(img, angle):\n",
    "    angle = int(random.uniform(-angle, angle))\n",
    "    h, w = img.shape[:2]\n",
    "    M = cv2.getRotationMatrix2D((int(w/2), int(h/2)), angle, 1)\n",
    "    img = cv2.warpAffine(img, M, (w, h))\n",
    "    return img\n",
    "g=rotation(b,12)\n",
    "cv2.imshow('cat-rotated',g)\n",
    "cv2.waitKey(0)\n",
    "cv2.destroyAllWindows()"
   ]
  },
  {
   "cell_type": "markdown",
   "id": "68a975d3",
   "metadata": {},
   "source": [
    "**image resizing**"
   ]
  },
  {
   "cell_type": "code",
   "execution_count": 18,
   "id": "56ffbd7e",
   "metadata": {},
   "outputs": [],
   "source": [
    "h=cv2.resize(b,(224,224)) #change the numbers\n",
    "cv2.imshow('cat-resized',h)\n",
    "cv2.waitKey(0)\n",
    "cv2.destroyAllWindows()"
   ]
  },
  {
   "cell_type": "markdown",
   "id": "697037a9",
   "metadata": {},
   "source": [
    "**image negatives**"
   ]
  },
  {
   "cell_type": "code",
   "execution_count": 25,
   "id": "13b9a04c",
   "metadata": {},
   "outputs": [],
   "source": [
    "neg=cv2.bitwise_not(b)\n",
    "cv2.imshow('Negative',neg)\n",
    "cv2.waitKey(0)\n",
    "cv2.destroyAllWindows()"
   ]
  },
  {
   "cell_type": "code",
   "execution_count": 28,
   "id": "a049f4f8",
   "metadata": {},
   "outputs": [],
   "source": [
    "gray=cv2.cvtColor(b,cv2.COLOR_BGR2GRAY) #used to convert to grayscale\n",
    "neg=cv2.bitwise_not(gray)\n",
    "cv2.imshow('Grayscale Negative',neg)\n",
    "cv2.waitKey(0)\n",
    "cv2.destroyAllWindows()"
   ]
  },
  {
   "cell_type": "markdown",
   "id": "5fd5f06b",
   "metadata": {},
   "source": [
    "# Edge detection"
   ]
  },
  {
   "cell_type": "markdown",
   "id": "372add4b",
   "metadata": {},
   "source": [
    "These algorithms are used to find the boundary of the object in image. This would be highly useful to find the boundary of the tumor in CT or MRI. It is known that edges have low frequencies and the function filters those regions with specified frequencies. \n",
    "(If you reduce the frequency in the function, you will get more lines in output image, out of which all arent edges)\n",
    "\n",
    "\n",
    "**Canny**\n"
   ]
  },
  {
   "cell_type": "code",
   "execution_count": 33,
   "id": "3cc55596",
   "metadata": {},
   "outputs": [],
   "source": [
    "gray=cv2.cvtColor(b,cv2.COLOR_BGR2GRAY)\n",
    "canny=cv2.Canny(gray,1,100)\n",
    "cv2.imshow('Canny edge',canny)\n",
    "cv2.waitKey(0)\n",
    "cv2.destroyAllWindows()"
   ]
  },
  {
   "cell_type": "code",
   "execution_count": 32,
   "id": "f549b1c4",
   "metadata": {},
   "outputs": [],
   "source": [
    "gray=cv2.cvtColor(b,cv2.COLOR_BGR2GRAY)\n",
    "canny=cv2.Canny(gray,100,200)\n",
    "cv2.imshow('Canny edge',canny)\n",
    "cv2.waitKey(0)\n",
    "cv2.destroyAllWindows()"
   ]
  },
  {
   "cell_type": "code",
   "execution_count": 34,
   "id": "50f5c14b",
   "metadata": {},
   "outputs": [],
   "source": [
    "gray=cv2.cvtColor(b,cv2.COLOR_BGR2GRAY)\n",
    "canny=cv2.Canny(gray,200,300)\n",
    "cv2.imshow('Canny edge',canny)\n",
    "cv2.waitKey(0)\n",
    "cv2.destroyAllWindows()"
   ]
  },
  {
   "cell_type": "markdown",
   "id": "6e707dac",
   "metadata": {},
   "source": [
    "# Image denoising (Theory part)"
   ]
  },
  {
   "cell_type": "markdown",
   "id": "8a48f8b4",
   "metadata": {},
   "source": [
    "Noise is an unwanted signal that interferes with image and disrupts the information present in it. Hence it is neccessary to remove the noise present in the image in order to better visualise it. Noise occurs due to the following:-\n",
    "1. electronic circuit fail\n",
    "2. environmental changes\n",
    "3. camera quality\n",
    "4. shake in the object (abberations)\n",
    "\n",
    "Most common noises affecting images are \n",
    "1. salt and pepper- salt refers to brightness and pepper refers to darkness\n",
    "2. speckle\n",
    "3. poisson\n",
    "4. gaussian\n",
    "\n",
    "Generally, most of the noise is removed in the post-processing part of the medical image generating machines like X-ray, CT, MRI etc. Also most of the public datasets are free from noise because they remove images affected with noise (mainly abberations)."
   ]
  },
  {
   "cell_type": "markdown",
   "id": "5fea5035",
   "metadata": {},
   "source": [
    "# Image blurring"
   ]
  },
  {
   "cell_type": "markdown",
   "id": "c7e0e05b",
   "metadata": {},
   "source": [
    "Taking average of the pixels in an image will blur it. It is not possible to take average for all pixels at a time. Hence we are taking 9 at a time. Average of 9 pixels is equivalent to multiplying it with 0.11, hence we get the filter like that."
   ]
  },
  {
   "cell_type": "code",
   "execution_count": 51,
   "id": "d97ea004",
   "metadata": {},
   "outputs": [],
   "source": [
    "import numpy as np\n",
    "kernel = np.array([[0.11, 0.11, 0.11],\n",
    "                   [0.11, 0.11,0.11], #vary the number in the center from 4.5-6\n",
    "                   [0.11, 0.11, 0.11]])\n",
    "img_blur = cv2.filter2D(src=b, ddepth=-1, kernel=kernel)\n",
    "cv2.imshow('blurred',img_blur)\n",
    "cv2.waitKey(0)\n",
    "cv2.destroyAllWindows()"
   ]
  },
  {
   "cell_type": "markdown",
   "id": "665e1341",
   "metadata": {},
   "source": [
    "# Image enhancement (sharpening)"
   ]
  },
  {
   "cell_type": "markdown",
   "id": "2c987509",
   "metadata": {},
   "source": [
    "Image enhancement is the process of improving the quality of the image. This is done with the help of some filters. Filters are nothing but dimensioned (3*3 min) matrix with specified values.\n",
    "\n",
    "Filter used here=\n",
    "[[0, -1, 0],\n",
    "[-1, 5.8,-1],\n",
    "[0, -1, 0]]"
   ]
  },
  {
   "cell_type": "code",
   "execution_count": 41,
   "id": "a5edfd65",
   "metadata": {},
   "outputs": [],
   "source": [
    "import numpy as np\n",
    "kernel = np.array([[0, -1, 0],\n",
    "                   [-1, 5.5,-1], #vary the number in the center from 4.5-6\n",
    "                   [0, -1, 0]])\n",
    "img_sharp = cv2.filter2D(src=b, ddepth=-1, kernel=kernel)\n",
    "cv2.imshow('sharpened',img_sharp)\n",
    "cv2.waitKey(0)\n",
    "cv2.destroyAllWindows()"
   ]
  },
  {
   "cell_type": "markdown",
   "id": "66d7ecea",
   "metadata": {},
   "source": [
    "# Case Study 1- Enhancing breast tumors"
   ]
  },
  {
   "cell_type": "markdown",
   "id": "87db5e3d",
   "metadata": {},
   "source": [
    "This code is the application of sharpening to breast cancer image in order to elevate the regions of tumor (show it better)."
   ]
  },
  {
   "cell_type": "code",
   "execution_count": 58,
   "id": "cf9ecee1",
   "metadata": {},
   "outputs": [],
   "source": [
    "img_path=r\"C:\\Users\\sairam\\Desktop\\dbt.jpeg\"\n",
    "img=cv2.imread(img_path,1)\n",
    "cv2.imshow('original',img)\n",
    "cv2.waitKey(0)\n",
    "cv2.destroyAllWindows()"
   ]
  },
  {
   "cell_type": "code",
   "execution_count": 57,
   "id": "643c7fcd",
   "metadata": {},
   "outputs": [],
   "source": [
    "import numpy as np\n",
    "kernel = np.array([[0, -1, 0],\n",
    "                   [-1, 5.6,-1], #vary the number in the center from 4.5-6\n",
    "                   [0, -1, 0]])\n",
    "img_sharp = cv2.filter2D(src=img, ddepth=-1, kernel=kernel)\n",
    "cv2.imshow('sharpened',img_sharp)\n",
    "cv2.waitKey(0)\n",
    "cv2.destroyAllWindows()"
   ]
  },
  {
   "cell_type": "markdown",
   "id": "36b83979",
   "metadata": {},
   "source": [
    "# Case Study 2- Tracing out the anatomy of a region"
   ]
  },
  {
   "cell_type": "markdown",
   "id": "a044d62f",
   "metadata": {},
   "source": [
    "This code is to get the boundaries of a particular anatomical region (knee)."
   ]
  },
  {
   "cell_type": "code",
   "execution_count": 74,
   "id": "0a70868b",
   "metadata": {},
   "outputs": [],
   "source": [
    "img_path=r\"C:\\Users\\sairam\\Desktop\\mri1.jpeg\"\n",
    "img=cv2.imread(img_path,1)\n",
    "cv2.imshow('original',img)\n",
    "cv2.waitKey(0)\n",
    "cv2.destroyAllWindows()"
   ]
  },
  {
   "cell_type": "code",
   "execution_count": 75,
   "id": "498674f4",
   "metadata": {},
   "outputs": [],
   "source": [
    "gray=cv2.cvtColor(img,cv2.COLOR_BGR2GRAY)\n",
    "canny=cv2.Canny(gray,300,350)\n",
    "cv2.imshow('Canny edge',canny)\n",
    "cv2.waitKey(0)\n",
    "cv2.destroyAllWindows()"
   ]
  },
  {
   "cell_type": "markdown",
   "id": "a3cce3d8",
   "metadata": {},
   "source": [
    "# Case Study 3- Different Visualisation of Breast Tumors"
   ]
  },
  {
   "cell_type": "markdown",
   "id": "aaca0b5b",
   "metadata": {},
   "source": [
    "This code applies negative to breast mammogram image."
   ]
  },
  {
   "cell_type": "code",
   "execution_count": 76,
   "id": "448cc5a6",
   "metadata": {},
   "outputs": [],
   "source": [
    "img_path=r\"C:\\Users\\sairam\\Desktop\\mammo.jpeg\"\n",
    "img=cv2.imread(img_path,1)\n",
    "cv2.imshow('original',img)\n",
    "cv2.waitKey(0)\n",
    "cv2.destroyAllWindows()"
   ]
  },
  {
   "cell_type": "code",
   "execution_count": 77,
   "id": "56304136",
   "metadata": {},
   "outputs": [],
   "source": [
    "neg=cv2.bitwise_not(img)\n",
    "cv2.imshow('Negative',neg)\n",
    "cv2.waitKey(0)\n",
    "cv2.destroyAllWindows()"
   ]
  },
  {
   "cell_type": "markdown",
   "id": "7520bca0",
   "metadata": {},
   "source": [
    "# Assignment- Do a case study for any image processing operation used in medical images using opencv"
   ]
  }
 ],
 "metadata": {
  "kernelspec": {
   "display_name": "Python 3",
   "language": "python",
   "name": "python3"
  },
  "language_info": {
   "codemirror_mode": {
    "name": "ipython",
    "version": 3
   },
   "file_extension": ".py",
   "mimetype": "text/x-python",
   "name": "python",
   "nbconvert_exporter": "python",
   "pygments_lexer": "ipython3",
   "version": "3.8.8"
  }
 },
 "nbformat": 4,
 "nbformat_minor": 5
}
